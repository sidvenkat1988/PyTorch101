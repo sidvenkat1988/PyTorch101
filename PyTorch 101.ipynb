{
 "cells": [
  {
   "cell_type": "markdown",
   "metadata": {},
   "source": [
    "# Simple Linear Regression"
   ]
  },
  {
   "cell_type": "markdown",
   "metadata": {},
   "source": [
    "The first step is to test a simple linear regression by generating random input, giving it some weight, adding some bias and some Gaussian noise and predicting it's output."
   ]
  },
  {
   "cell_type": "markdown",
   "metadata": {},
   "source": [
    "## Data Generation"
   ]
  },
  {
   "cell_type": "code",
   "execution_count": 1,
   "metadata": {},
   "outputs": [],
   "source": [
    "import numpy as np\n",
    "import matplotlib.pyplot as plt\n",
    "%matplotlib inline\n",
    "plt.style.use(\"fivethirtyeight\")"
   ]
  },
  {
   "cell_type": "markdown",
   "metadata": {},
   "source": [
    "From this link(https://matplotlib.org/3.1.0/gallery/style_sheets/fivethirtyeight.html), the command 'plt.style.use(\"fivethirtyeight\")' tries to generate plots while replicating the styles of fivethirtyeight.com."
   ]
  },
  {
   "cell_type": "markdown",
   "metadata": {},
   "source": [
    "Now lets create some random data 'x', add some weight 'b', some bias 'a', some gaussian noise to input 'x', and come up with a value 'y' for each input value such that:\n",
    "\n",
    "y = a + b * x * noise"
   ]
  },
  {
   "cell_type": "code",
   "execution_count": 2,
   "metadata": {},
   "outputs": [],
   "source": [
    "true_a = 1\n",
    "true_b = 2\n",
    "N = 100\n",
    "\n",
    "np.random.seed(42)\n",
    "x = np.random.rand(N, 1)\n",
    "y = true_a +true_b * x + .1 * np.random.randn(N, 1)"
   ]
  },
  {
   "cell_type": "markdown",
   "metadata": {},
   "source": [
    "## Train/Validation Split"
   ]
  },
  {
   "cell_type": "markdown",
   "metadata": {},
   "source": [
    "Now, let's shuffle the data and do a 80:20 split, with 80% being training data and 20% being validation data."
   ]
  },
  {
   "cell_type": "code",
   "execution_count": 3,
   "metadata": {},
   "outputs": [],
   "source": [
    "idx = np.arange(N)\n",
    "np.random.shuffle(idx)\n",
    "\n",
    "train_idx = idx[:int(N*.8)]\n",
    "val_idx = idx[int(N*.8):]\n",
    "\n",
    "x_train, y_train = x[train_idx], y[train_idx]\n",
    "x_val, y_val = x[val_idx], y[val_idx]"
   ]
  },
  {
   "cell_type": "markdown",
   "metadata": {},
   "source": [
    "Now lets visualize the data that we have generated."
   ]
  },
  {
   "cell_type": "code",
   "execution_count": 13,
   "metadata": {},
   "outputs": [
    {
     "data": {
      "text/plain": [
       "Text(0.5, 1.0, 'Generated Data - Validation')"
      ]
     },
     "execution_count": 13,
     "metadata": {},
     "output_type": "execute_result"
    },
    {
     "data": {
      "image/png": "[encoded data removed]",
      "text/plain": [
       "<Figure size 864x288 with 2 Axes>"
      ]
     },
     "metadata": {},
     "output_type": "display_data"
    }
   ],
   "source": [
    "fig, ax = plt.subplots(1, 2, figsize = (12, 4))\n",
    "ax[0].scatter(x_train, y_train)\n",
    "ax[0].set_xlabel('x')\n",
    "ax[0].set_ylabel('y')\n",
    "ax[0].set_ylim([1,3])\n",
    "ax[0].set_title('Generated Data - Train')\n",
    "ax[1].scatter(x_val, y_val, c = 'r')\n",
    "ax[1].set_xlabel('x')\n",
    "ax[1].set_ylabel('y')\n",
    "ax[1].set_ylim([1, 3])\n",
    "ax[1].set_title('Generated Data - Validation')"
   ]
  },
  {
   "cell_type": "markdown",
   "metadata": {},
   "source": [
    "## A Few Basic Tensor Concepts Using PyTorch"
   ]
  },
  {
   "cell_type": "code",
   "execution_count": 14,
   "metadata": {},
   "outputs": [],
   "source": [
    "import torch\n",
    "import torch.nn as nn\n",
    "import torch.optim as optim\n",
    "from torchviz import make_dot"
   ]
  },
  {
   "cell_type": "markdown",
   "metadata": {},
   "source": [
    "scalar -> single number/zero dimensions, vector -> 1 dimension, matrix -> 2 dimensions, tensor -> 3 or more dimensions.\n",
    "But going forward, let us describe everything as either a scalar or a tensor.\n",
    "Similar to how we create arrays in NumPy, we can create tensors in Pytorch."
   ]
  },
  {
   "cell_type": "code",
   "execution_count": 15,
   "metadata": {},
   "outputs": [
    {
     "name": "stdout",
     "output_type": "stream",
     "text": [
      "tensor(3.1416)\n",
      "tensor([1, 2, 3])\n",
      "tensor([[1., 1., 1.],\n",
      "        [1., 1., 1.]])\n",
      "tensor([[[-0.5990, -1.0787, -0.9600,  0.4166],\n",
      "         [ 0.4378,  0.3829, -0.9302,  0.0215],\n",
      "         [-0.2493,  1.4763, -0.6028,  0.4353]],\n",
      "\n",
      "        [[ 0.4107,  0.7144,  1.3867,  1.2155],\n",
      "         [-0.2974, -0.2313,  0.2427, -2.1793],\n",
      "         [ 1.2458,  0.0120, -2.1538,  1.7954]]])\n"
     ]
    }
   ],
   "source": [
    "scalar = torch.tensor(3.14159)\n",
    "vector = torch.tensor([1,2,3])\n",
    "matrix = torch.ones((2,3), dtype = torch.float)\n",
    "tensor = torch.randn((2,3,4), dtype = torch.float)\n",
    "\n",
    "print(scalar)\n",
    "print(vector)\n",
    "print(matrix)\n",
    "print(tensor)"
   ]
  },
  {
   "cell_type": "code",
   "execution_count": 16,
   "metadata": {},
   "outputs": [
    {
     "name": "stdout",
     "output_type": "stream",
     "text": [
      "torch.Size([2, 3, 4])\n"
     ]
    }
   ],
   "source": [
    "print(tensor.size())"
   ]
  },
  {
   "cell_type": "code",
   "execution_count": 17,
   "metadata": {},
   "outputs": [
    {
     "name": "stdout",
     "output_type": "stream",
     "text": [
      "torch.Size([2, 3, 4])\n"
     ]
    }
   ],
   "source": [
    "print(tensor.shape)"
   ]
  },
  {
   "cell_type": "code",
   "execution_count": 18,
   "metadata": {},
   "outputs": [
    {
     "name": "stdout",
     "output_type": "stream",
     "text": [
      "torch.Size([2, 12]) torch.Size([2, 12])\n"
     ]
    }
   ],
   "source": [
    "new_tensor1 = tensor.reshape(2, -1)\n",
    "new_tensor2 = tensor.view(2, -1)\n",
    "print(new_tensor1.shape, new_tensor2.shape)"
   ]
  },
  {
   "cell_type": "markdown",
   "metadata": {},
   "source": [
    "## Loading Data, Devices and CUDA"
   ]
  },
  {
   "cell_type": "markdown",
   "metadata": {},
   "source": [
    "Lets convert our data from np.array to a PyTorch tensor."
   ]
  },
  {
   "cell_type": "code",
   "execution_count": 19,
   "metadata": {},
   "outputs": [
    {
     "name": "stdout",
     "output_type": "stream",
     "text": [
      "<class 'numpy.ndarray'> <class 'torch.Tensor'>\n"
     ]
    }
   ],
   "source": [
    "x_train_tensor = torch.from_numpy(x_train).float()\n",
    "y_train_tensor = torch.from_numpy(y_train).float()\n",
    "\n",
    "print(type(x_train), type(x_train_tensor))"
   ]
  },
  {
   "cell_type": "markdown",
   "metadata": {},
   "source": [
    "We can also save our data in CUDA with the help of PyTorch's 'to()' command. Also, if we don't have a GPU and have to fall back on our CPU, we can make use of 'cuda.is_available()' command."
   ]
  },
  {
   "cell_type": "code",
   "execution_count": 20,
   "metadata": {},
   "outputs": [
    {
     "name": "stdout",
     "output_type": "stream",
     "text": [
      "<class 'numpy.ndarray'> <class 'torch.Tensor'>\n"
     ]
    }
   ],
   "source": [
    "device = 'cuda' if torch.cuda.is_available() else 'cpu'\n",
    "\n",
    "x_train_tensor = torch.from_numpy(x_train).float().to(device)\n",
    "y_train_tensor = torch.from_numpy(y_train).float().to(device)\n",
    "\n",
    "print(type(x_train), type(x_train_tensor))"
   ]
  },
  {
   "cell_type": "markdown",
   "metadata": {},
   "source": [
    "Checking the location along with the data type."
   ]
  },
  {
   "cell_type": "code",
   "execution_count": 21,
   "metadata": {},
   "outputs": [
    {
     "name": "stdout",
     "output_type": "stream",
     "text": [
      "torch.FloatTensor\n"
     ]
    }
   ],
   "source": [
    "print(x_train_tensor.type())"
   ]
  },
  {
   "cell_type": "markdown",
   "metadata": {},
   "source": [
    "Turning a tensor into a numpy array:"
   ]
  },
  {
   "cell_type": "code",
   "execution_count": 22,
   "metadata": {
    "scrolled": true
   },
   "outputs": [
    {
     "data": {
      "text/plain": [
       "array([[0.77127033],\n",
       "       [0.06355835],\n",
       "       [0.86310345],\n",
       "       [0.02541913],\n",
       "       [0.7319939 ],\n",
       "       [0.07404465],\n",
       "       [0.19871569],\n",
       "       [0.31098232],\n",
       "       [0.47221494],\n",
       "       [0.96958464],\n",
       "       [0.12203824],\n",
       "       [0.77513283],\n",
       "       [0.802197  ],\n",
       "       [0.72960615],\n",
       "       [0.09767211],\n",
       "       [0.18485446],\n",
       "       [0.15601864],\n",
       "       [0.02058449],\n",
       "       [0.9868869 ],\n",
       "       [0.6232981 ],\n",
       "       [0.7080726 ],\n",
       "       [0.5979    ],\n",
       "       [0.9218742 ],\n",
       "       [0.63755745],\n",
       "       [0.2809345 ],\n",
       "       [0.25877997],\n",
       "       [0.11959425],\n",
       "       [0.7290072 ],\n",
       "       [0.94888556],\n",
       "       [0.60754484],\n",
       "       [0.5612772 ],\n",
       "       [0.4937956 ],\n",
       "       [0.18182497],\n",
       "       [0.27134904],\n",
       "       [0.96990985],\n",
       "       [0.21233912],\n",
       "       [0.1834045 ],\n",
       "       [0.8661761 ],\n",
       "       [0.37454012],\n",
       "       [0.29122913],\n",
       "       [0.80839735],\n",
       "       [0.05808361],\n",
       "       [0.83244264],\n",
       "       [0.54269606],\n",
       "       [0.77224475],\n",
       "       [0.88721275],\n",
       "       [0.08849251],\n",
       "       [0.04522729],\n",
       "       [0.59241456],\n",
       "       [0.684233  ],\n",
       "       [0.7132448 ],\n",
       "       [0.03438852],\n",
       "       [0.601115  ],\n",
       "       [0.81546146],\n",
       "       [0.4401525 ],\n",
       "       [0.32518333],\n",
       "       [0.785176  ],\n",
       "       [0.76078504],\n",
       "       [0.4951769 ],\n",
       "       [0.19967379],\n",
       "       [0.9507143 ],\n",
       "       [0.29214466],\n",
       "       [0.13949387],\n",
       "       [0.31171107],\n",
       "       [0.7068573 ],\n",
       "       [0.11586906],\n",
       "       [0.35846573],\n",
       "       [0.00552212],\n",
       "       [0.19598286],\n",
       "       [0.89482737],\n",
       "       [0.45606998],\n",
       "       [0.52475643],\n",
       "       [0.14092423],\n",
       "       [0.06505159],\n",
       "       [0.17052412],\n",
       "       [0.8287375 ],\n",
       "       [0.32533032],\n",
       "       [0.93949896],\n",
       "       [0.33089802],\n",
       "       [0.36636186]], dtype=float32)"
      ]
     },
     "execution_count": 22,
     "metadata": {},
     "output_type": "execute_result"
    }
   ],
   "source": [
    "x_train_tensor.numpy()"
   ]
  },
  {
   "cell_type": "code",
   "execution_count": 23,
   "metadata": {
    "scrolled": true
   },
   "outputs": [
    {
     "data": {
      "text/plain": [
       "array([[0.77127033],\n",
       "       [0.06355835],\n",
       "       [0.86310345],\n",
       "       [0.02541913],\n",
       "       [0.7319939 ],\n",
       "       [0.07404465],\n",
       "       [0.19871569],\n",
       "       [0.31098232],\n",
       "       [0.47221494],\n",
       "       [0.96958464],\n",
       "       [0.12203824],\n",
       "       [0.77513283],\n",
       "       [0.802197  ],\n",
       "       [0.72960615],\n",
       "       [0.09767211],\n",
       "       [0.18485446],\n",
       "       [0.15601864],\n",
       "       [0.02058449],\n",
       "       [0.9868869 ],\n",
       "       [0.6232981 ],\n",
       "       [0.7080726 ],\n",
       "       [0.5979    ],\n",
       "       [0.9218742 ],\n",
       "       [0.63755745],\n",
       "       [0.2809345 ],\n",
       "       [0.25877997],\n",
       "       [0.11959425],\n",
       "       [0.7290072 ],\n",
       "       [0.94888556],\n",
       "       [0.60754484],\n",
       "       [0.5612772 ],\n",
       "       [0.4937956 ],\n",
       "       [0.18182497],\n",
       "       [0.27134904],\n",
       "       [0.96990985],\n",
       "       [0.21233912],\n",
       "       [0.1834045 ],\n",
       "       [0.8661761 ],\n",
       "       [0.37454012],\n",
       "       [0.29122913],\n",
       "       [0.80839735],\n",
       "       [0.05808361],\n",
       "       [0.83244264],\n",
       "       [0.54269606],\n",
       "       [0.77224475],\n",
       "       [0.88721275],\n",
       "       [0.08849251],\n",
       "       [0.04522729],\n",
       "       [0.59241456],\n",
       "       [0.684233  ],\n",
       "       [0.7132448 ],\n",
       "       [0.03438852],\n",
       "       [0.601115  ],\n",
       "       [0.81546146],\n",
       "       [0.4401525 ],\n",
       "       [0.32518333],\n",
       "       [0.785176  ],\n",
       "       [0.76078504],\n",
       "       [0.4951769 ],\n",
       "       [0.19967379],\n",
       "       [0.9507143 ],\n",
       "       [0.29214466],\n",
       "       [0.13949387],\n",
       "       [0.31171107],\n",
       "       [0.7068573 ],\n",
       "       [0.11586906],\n",
       "       [0.35846573],\n",
       "       [0.00552212],\n",
       "       [0.19598286],\n",
       "       [0.89482737],\n",
       "       [0.45606998],\n",
       "       [0.52475643],\n",
       "       [0.14092423],\n",
       "       [0.06505159],\n",
       "       [0.17052412],\n",
       "       [0.8287375 ],\n",
       "       [0.32533032],\n",
       "       [0.93949896],\n",
       "       [0.33089802],\n",
       "       [0.36636186]], dtype=float32)"
      ]
     },
     "execution_count": 23,
     "metadata": {},
     "output_type": "execute_result"
    }
   ],
   "source": [
    "x_train_tensor.cpu().numpy()"
   ]
  },
  {
   "cell_type": "markdown",
   "metadata": {},
   "source": [
    "## Creating Tensors That Require Gradients"
   ]
  },
  {
   "cell_type": "markdown",
   "metadata": {},
   "source": [
    "This can be done with the help of 'requires_grad = True' command."
   ]
  },
  {
   "cell_type": "code",
   "execution_count": 24,
   "metadata": {},
   "outputs": [
    {
     "name": "stdout",
     "output_type": "stream",
     "text": [
      "tensor([-0.5966], requires_grad=True) tensor([-0.5566], requires_grad=True)\n"
     ]
    }
   ],
   "source": [
    "a = torch.randn(1, requires_grad = True, dtype = torch.float, device = device)\n",
    "b = torch.randn(1, requires_grad = True, dtype = torch.float, device = device)\n",
    "print(a, b)"
   ]
  },
  {
   "cell_type": "code",
   "execution_count": null,
   "metadata": {},
   "outputs": [],
   "source": []
  }
 ],
 "metadata": {
  "kernelspec": {
   "display_name": "Python 3",
   "language": "python",
   "name": "python3"
  },
  "language_info": {
   "codemirror_mode": {
    "name": "ipython",
    "version": 3
   },
   "file_extension": ".py",
   "mimetype": "text/x-python",
   "name": "python",
   "nbconvert_exporter": "python",
   "pygments_lexer": "ipython3",
   "version": "3.6.8"
  }
 },
 "nbformat": 4,
 "nbformat_minor": 2
}
